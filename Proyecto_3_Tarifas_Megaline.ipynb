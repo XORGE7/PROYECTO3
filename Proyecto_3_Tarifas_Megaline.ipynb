{
 "cells": [
  {
   "cell_type": "code",
   "execution_count": null,
   "id": "37536245",
   "metadata": {
    "lines_to_next_cell": 2
   },
   "outputs": [],
   "source": [
    "# Cargar todas las librerías\n",
    "import pandas as pd\n",
    "import numpy as np\n",
    "from scipy import stats as st\n",
    "import math as mt\n",
    "from matplotlib import pyplot as plt"
   ]
  },
  {
   "cell_type": "markdown",
   "id": "68d1745b",
   "metadata": {},
   "source": [
    "## 1.2 Cargar datos <a id='carga_datos'></a>"
   ]
  },
  {
   "cell_type": "code",
   "execution_count": null,
   "id": "3dddad0d",
   "metadata": {
    "lines_to_next_cell": 2
   },
   "outputs": [],
   "source": [
    "# Carga los archivos de datos en diferentes DataFrames\n",
    "df_users = pd.read_csv('files/datasets/megaline_users.csv')\n",
    "df_calls = pd.read_csv('files/datasets/megaline_calls.csv')\n",
    "df_messages = pd.read_csv('files/datasets/megaline_messages.csv')\n",
    "df_internet = pd.read_csv('files/datasets/megaline_internet.csv')\n",
    "df_plans = pd.read_csv('files/datasets/megaline_plans.csv')"
   ]
  },
  {
   "cell_type": "markdown",
   "id": "500a4834",
   "metadata": {},
   "source": [
    "## 2 Preparar los datos <a id='preparar_datos'></a>"
   ]
  },
  {
   "cell_type": "markdown",
   "id": "6e949412",
   "metadata": {},
   "source": [
    "## 2.1 Tarifas <a id='tarifas'></a>"
   ]
  },
  {
   "cell_type": "code",
   "execution_count": null,
   "id": "c06b7feb",
   "metadata": {
    "lines_to_next_cell": 2
   },
   "outputs": [],
   "source": [
    "# Imprime la información general/resumida sobre el DataFrame de las tarifas\n",
    "df_plans.info()"
   ]
  },
  {
   "cell_type": "code",
   "execution_count": null,
   "id": "ffb351b3",
   "metadata": {
    "lines_to_next_cell": 2
   },
   "outputs": [],
   "source": [
    "# Imprime una muestra de los datos para las tarifas\n",
    "df_plans.head()"
   ]
  },
  {
   "cell_type": "markdown",
   "id": "5d5c162f",
   "metadata": {},
   "source": [
    "<span style=\"color:darkgreen\">\n",
    "El Dataframe tiene un total de 8 columnas con 2 filas solamente, no hay datos ausentes y tampoco duplicados. Se puede concluir con lo anterior, debido a que es un DataFrame pequeño y se puede observar  simple vista.\n",
    "</span>"
   ]
  },
  {
   "cell_type": "markdown",
   "id": "aaa90e88",
   "metadata": {},
   "source": [
    "## 2.2 Corregir datos <a id='corregir_datos'></a>"
   ]
  },
  {
   "cell_type": "markdown",
   "id": "77f83125",
   "metadata": {},
   "source": [
    "<span style=\"color:darkgreen\">\n",
    "No es necesario hacer correciones al DataFrame\n",
    "</span>"
   ]
  },
  {
   "cell_type": "markdown",
   "id": "168d3bc9",
   "metadata": {},
   "source": [
    "## 2.3 Enriquecer los datos <a id='enriquecer_datos'></a>"
   ]
  },
  {
   "cell_type": "markdown",
   "id": "9b5351a6",
   "metadata": {},
   "source": [
    "<span style=\"color:darkgreen\">\n",
    "Se cambia la columna de `mb_per_month_included` a Gigabytes.  \n",
    "    \n",
    "También se cambia el nombre de la columna de `mb_per_month_included` a `gb_per_month_included`\n",
    "</span>"
   ]
  },
  {
   "cell_type": "code",
   "execution_count": null,
   "id": "200ca677",
   "metadata": {
    "lines_to_next_cell": 2
   },
   "outputs": [],
   "source": [
    "# La columna 'mb_per_month_included' se divide entre 1024 para transformar a gigabytes\n",
    "# Así quedan 15 y 30 gb para el plan Surf y el plan Ultimate, respectivamente\n",
    "df_plans['mb_per_month_included'] = df_plans['mb_per_month_included'] / 1024\n",
    "# Se renombra la columna 'mb_per_month_included'\n",
    "df_plans = df_plans.rename(columns= {'mb_per_month_included':'gb_per_month_included'})\n",
    "df_plans"
   ]
  },
  {
   "cell_type": "markdown",
   "id": "f13d5d6b",
   "metadata": {},
   "source": [
    "## 2.4 Usuarios/as <a id='usuarios'></a>"
   ]
  },
  {
   "cell_type": "code",
   "execution_count": null,
   "id": "d280d3a8",
   "metadata": {
    "lines_to_next_cell": 2
   },
   "outputs": [],
   "source": [
    "# Imprime la información general/resumida sobre el DataFrame de usuarios\n",
    "df_users.info()"
   ]
  },
  {
   "cell_type": "code",
   "execution_count": null,
   "id": "498eed3b",
   "metadata": {},
   "outputs": [],
   "source": [
    "# Se imprime una muestra de datos para usuarios\n",
    "df_users.head()"
   ]
  },
  {
   "cell_type": "code",
   "execution_count": null,
   "id": "2890af39",
   "metadata": {},
   "outputs": [],
   "source": [
    "# se usa el método describe para una exploración de los datos (estadísticas descriptivas)\n",
    "df_users.describe()"
   ]
  },
  {
   "cell_type": "code",
   "execution_count": null,
   "id": "ee5d6543",
   "metadata": {},
   "outputs": [],
   "source": [
    "# Se hace una exploración de los datos de la columna 'plan' con describe()\n",
    "df_users['plan'].describe()"
   ]
  },
  {
   "cell_type": "code",
   "execution_count": null,
   "id": "407643ea",
   "metadata": {},
   "outputs": [],
   "source": [
    "# Se comprueba si hay datos nulos\n",
    "df_users.isna().sum()"
   ]
  },
  {
   "cell_type": "code",
   "execution_count": null,
   "id": "4598f94c",
   "metadata": {},
   "outputs": [],
   "source": [
    "# Se comprueba si hay datos duplicados\n",
    "df_users.duplicated().sum()"
   ]
  },
  {
   "cell_type": "markdown",
   "id": "754cdd34",
   "metadata": {},
   "source": [
    "<span style=\"color:darkgreen\"> El Dataframe de usuarios tiene 500 filas y 8 columnas, las columnas `reg_date` y `churn_date` no tiene el tipo de datos de fecha, es necesario cambiar el tipo de dato de estas columnas, además, la columna `churn_date` tiene valores ausentes, pero estos valores ausentes significan que la tarifa se estaba usando cuando fue extraída esta base de datos, por lo que no se eliminarán o sustituiran con otro valor.  \n",
    "La edad promedio de los usuarios o usuarias es de 45 años, el cliente más jóven tiene 18 años, mientras que el cliente de mayor edad tiene 75 años.  \n",
    "El plan Surf es el más frecuente entre los usuarios o usuarias.  \n",
    "También, la columna `city` tiene la ciudad y el estado del usuario, ésta columna se puede dividir para tener una columna únicamente con la ciudad y otra con el estado.\n",
    "</span>"
   ]
  },
  {
   "cell_type": "markdown",
   "id": "83df078f",
   "metadata": {},
   "source": [
    "### 2.4.1 Corregir los datos <a id='corregir_usuarios'></a>"
   ]
  },
  {
   "cell_type": "code",
   "execution_count": null,
   "id": "bf93510b",
   "metadata": {},
   "outputs": [],
   "source": [
    "# Se cambia el tipo de dato de la columna 'reg_date' y 'churn_date' con el método to_datetime()\n",
    "df_users['reg_date'] = pd.to_datetime(df_users['reg_date'])\n",
    "df_users['churn_date'] = pd.to_datetime(df_users['churn_date'])"
   ]
  },
  {
   "cell_type": "code",
   "execution_count": null,
   "id": "060a8ec5",
   "metadata": {},
   "outputs": [],
   "source": [
    "# Con el atributo dtypes se verifica el cambio de tipos de datos de las columnas 'reg_date' y 'churn_date'\n",
    "df_users.dtypes"
   ]
  },
  {
   "cell_type": "markdown",
   "id": "bcf2e4b2",
   "metadata": {},
   "source": [
    "### 2.4.2 Enriquecer los datos <a id='enriquecer_usuarios'></a>"
   ]
  },
  {
   "cell_type": "code",
   "execution_count": null,
   "id": "33e181dc",
   "metadata": {},
   "outputs": [],
   "source": [
    "# Ahora se divide la columna 'city' para separar la ciudad y el estado\n",
    "# También se crea una nueva columna para el/los estados\n",
    "# Se emplea str.split() para realizar dicha tarea\n",
    "df_users[['city', 'state']] = df_users.city.str.split(', ', expand= True)"
   ]
  },
  {
   "cell_type": "code",
   "execution_count": null,
   "id": "4267adc3",
   "metadata": {},
   "outputs": [],
   "source": [
    "# Se muestran los 3 primeros valores del DataFrame\n",
    "df_users.head()"
   ]
  },
  {
   "cell_type": "markdown",
   "id": "203c6712",
   "metadata": {},
   "source": [
    "<span style=\"color:darkgreen\"> En la columna `state` se observa que el nombre de los estados está acompañado con **MSA**, para saber el significado de dicho texto sería necesario preguntar al equipo que capturó los datos, sin embargo, para fines de este proyecto no es relevante y sólo nos interesa el estado, por lo tanto se eliminará de la columna.\n",
    "</span>"
   ]
  },
  {
   "cell_type": "code",
   "execution_count": null,
   "id": "00b68db7",
   "metadata": {},
   "outputs": [],
   "source": [
    "# Para reemplazar MSA de la columna 'state' se hace mediante str.replace(' MSA','')\n",
    "df_users['state'] = df_users['state'].str.replace(' MSA','')"
   ]
  },
  {
   "cell_type": "code",
   "execution_count": null,
   "id": "3a0e1ae2",
   "metadata": {},
   "outputs": [],
   "source": [
    "# Se imprime una muestra de datos del DataFrame de los usuarios\n",
    "df_users.head()"
   ]
  },
  {
   "cell_type": "markdown",
   "id": "0f1591ef",
   "metadata": {},
   "source": [
    "<div class=\"alert alert-block alert-info\">\n",
    "<b> </b> <a class=\"tocSkip\"></a>  \n",
    "\n",
    "Para los datos nulos en la columna `churn_date` se decidió no completarlos o llenarlos con otra información, porque son clientes aún estaba usando el servicio. Por tanto, estos valores nulos significan que los usuarios aún están usando el servicio.\n",
    "</div>\n"
   ]
  },
  {
   "cell_type": "markdown",
   "id": "4d534391",
   "metadata": {},
   "source": [
    "<span style=\"color:green\"> Ahora ya se tiene la ciudad y el estado en columnas separadas.\n",
    "</span>"
   ]
  },
  {
   "cell_type": "markdown",
   "id": "ef522b3b",
   "metadata": {},
   "source": [
    "## 3 Llamadas <a id='llamadas'></a>"
   ]
  },
  {
   "cell_type": "code",
   "execution_count": null,
   "id": "fa8cdeec",
   "metadata": {
    "lines_to_next_cell": 2
   },
   "outputs": [],
   "source": [
    "# Imprime la información general/resumida sobre el DataFrame de las llamadas\n",
    "df_calls.info()"
   ]
  },
  {
   "cell_type": "code",
   "execution_count": null,
   "id": "97821819",
   "metadata": {},
   "outputs": [],
   "source": [
    "# Imprime una muestra de datos para las llamadas\n",
    "df_calls.head()"
   ]
  },
  {
   "cell_type": "code",
   "execution_count": null,
   "id": "4b4e5ed9",
   "metadata": {},
   "outputs": [],
   "source": [
    "# se usa el método describe para una exploración de los datos (estadísticas descriptivas)\n",
    "df_calls.describe()"
   ]
  },
  {
   "cell_type": "code",
   "execution_count": null,
   "id": "ce460c5b",
   "metadata": {},
   "outputs": [],
   "source": [
    "# Se verifica si hay valores nulos y duplicados\n",
    "df_calls.isna().sum()"
   ]
  },
  {
   "cell_type": "code",
   "execution_count": null,
   "id": "721021c2",
   "metadata": {},
   "outputs": [],
   "source": [
    "df_calls.duplicated().sum()"
   ]
  },
  {
   "cell_type": "markdown",
   "id": "3b88bd82",
   "metadata": {},
   "source": [
    "<span style=\"color:green\"> Se tienen 4 columnas con 137735 filas, la columna `id` tiene un tipo de dato *object*, pero está combinado con el **user_id**, por lo tanto se dejarán así esos datos. La columna `call_date` tiene un tipo de dato *object* por lo tanto se cambiará a tipo fecha (datetime). Con los métodos `isna().sum()` y `duplicated().sum()` se verificó si hay valores nulos en el DataFrame y no los hay en este caso.\n",
    "</span>"
   ]
  },
  {
   "cell_type": "markdown",
   "id": "76141d4d",
   "metadata": {},
   "source": [
    "### 3.1 Corregir los datos <a id='corregir_llamadas'></a>"
   ]
  },
  {
   "cell_type": "code",
   "execution_count": null,
   "id": "bb06fe05",
   "metadata": {},
   "outputs": [],
   "source": [
    "# Se cambia el tipo de dato de la columna 'call_date' con el método to_datetime()\n",
    "df_calls['call_date'] = pd.to_datetime(df_calls['call_date'])"
   ]
  },
  {
   "cell_type": "code",
   "execution_count": null,
   "id": "c36b4a77",
   "metadata": {},
   "outputs": [],
   "source": [
    "# Con el atributo dtypes se verifica el cambio de tipos de datos de las columnas 'reg_date' y 'churn_date'\n",
    "df_calls.dtypes"
   ]
  },
  {
   "cell_type": "markdown",
   "id": "4fc30eba",
   "metadata": {},
   "source": [
    "### 3.2 Enriquecer los datos <a id='enriquecer_llamadas'></a>"
   ]
  },
  {
   "cell_type": "markdown",
   "id": "d2ec9edd",
   "metadata": {},
   "source": [
    "<span style=\"color:green\"> Se crea una columna para el mes en que se hizo la llamada.\n",
    "</span>"
   ]
  },
  {
   "cell_type": "code",
   "execution_count": null,
   "id": "8351c53b",
   "metadata": {},
   "outputs": [],
   "source": [
    "# Se crea la columna 'call_month' y se usa el atributo df.month sobre la columna 'call_date' para extraer únicamente el mes\n",
    "df_calls['call_month'] = df_calls['call_date'].dt.month"
   ]
  },
  {
   "cell_type": "code",
   "execution_count": null,
   "id": "731c4015",
   "metadata": {},
   "outputs": [],
   "source": [
    "df_calls.head()"
   ]
  },
  {
   "cell_type": "code",
   "execution_count": null,
   "id": "d1404916",
   "metadata": {},
   "outputs": [],
   "source": [
    "# Hay llamadas con una duración de cero, por lo tanto se conservan los datos que sean diferentes de cero en la duración\n",
    "df_calls = df_calls[~(df_calls['duration'] == 0.0)]\n",
    "df_calls.head()"
   ]
  },
  {
   "cell_type": "code",
   "execution_count": null,
   "id": "18fe766b",
   "metadata": {},
   "outputs": [],
   "source": [
    "# Los minutos se redondean al entero superior inmediato con ceil() de numpy\n",
    "df_calls['duration'] = df_calls['duration'].apply(np.ceil)\n",
    "df_calls.head()"
   ]
  },
  {
   "cell_type": "markdown",
   "id": "c8609a95",
   "metadata": {},
   "source": [
    "## 4 Mensajes <a id='mensajes'></a>"
   ]
  },
  {
   "cell_type": "code",
   "execution_count": null,
   "id": "7c6a8f74",
   "metadata": {
    "lines_to_next_cell": 2
   },
   "outputs": [],
   "source": [
    "# Imprime la información general/resumida sobre el DataFrame de los mensajes\n",
    "df_messages.info()"
   ]
  },
  {
   "cell_type": "code",
   "execution_count": null,
   "id": "16df23f4",
   "metadata": {},
   "outputs": [],
   "source": [
    "# Imprime una muestra de datos para los mensajes\n",
    "df_messages.head()"
   ]
  },
  {
   "cell_type": "code",
   "execution_count": null,
   "id": "fc30f5b1",
   "metadata": {},
   "outputs": [],
   "source": [
    "# Se verifica si hay valores nulos y duplicados\n",
    "df_messages.isna().sum()"
   ]
  },
  {
   "cell_type": "code",
   "execution_count": null,
   "id": "b22674d9",
   "metadata": {},
   "outputs": [],
   "source": [
    "df_messages.duplicated().sum()"
   ]
  },
  {
   "cell_type": "markdown",
   "id": "169b1843",
   "metadata": {},
   "source": [
    "<span style=\"color:green\"> Se tienen 3 columnas con 76051 filas, la columna `id` tiene un tipo de dato *object*, también está combinado con el **user_id**, por lo tanto se dejarán así esos datos. La columna `message_date` tiene un tipo de dato *object* por lo tanto se cambiará a tipo fecha (datetime). Con los métodos `isna().sum()` y `duplicated().sum()` se verificó si hay valores nulos en el DataFrame y no los hay en este caso.\n",
    "</span>"
   ]
  },
  {
   "cell_type": "markdown",
   "id": "7629780f",
   "metadata": {},
   "source": [
    "### 4.1 Corregir los datos <a id='corregir_mensajes'></a>"
   ]
  },
  {
   "cell_type": "code",
   "execution_count": null,
   "id": "dccd8c89",
   "metadata": {},
   "outputs": [],
   "source": [
    "# Se cambia el tipo de dato de la columna 'message_date' con el método to_datetime()\n",
    "df_messages['message_date'] = pd.to_datetime(df_messages['message_date'])"
   ]
  },
  {
   "cell_type": "code",
   "execution_count": null,
   "id": "cabe5088",
   "metadata": {},
   "outputs": [],
   "source": [
    "# Con el atributo dtypes se verifica el cambio de tipos de datos \n",
    "df_messages.dtypes"
   ]
  },
  {
   "cell_type": "markdown",
   "id": "f49aa49c",
   "metadata": {},
   "source": [
    "### 4.2 Enriquecer los datos <a id='enriquecer_mensajes'></a>"
   ]
  },
  {
   "cell_type": "markdown",
   "id": "93a9bda0",
   "metadata": {},
   "source": [
    "<span style=\"color:green\"> Se crea una columna para el mes en que se envío el mensaje.\n",
    "</span>"
   ]
  },
  {
   "cell_type": "code",
   "execution_count": null,
   "id": "e3e39a35",
   "metadata": {},
   "outputs": [],
   "source": [
    "# Se crea la columna 'message_month' y se usa el atributo df.month sobre la columna 'message_date' para extraer únicamente el mes\n",
    "df_messages['message_month'] = df_messages['message_date'].dt.month"
   ]
  },
  {
   "cell_type": "code",
   "execution_count": null,
   "id": "9fbdf7fb",
   "metadata": {},
   "outputs": [],
   "source": [
    "df_messages.head()"
   ]
  },
  {
   "cell_type": "markdown",
   "id": "c408bb62",
   "metadata": {},
   "source": [
    "## 5 Internet <a id='internet'></a>"
   ]
  },
  {
   "cell_type": "code",
   "execution_count": null,
   "id": "547631e6",
   "metadata": {},
   "outputs": [],
   "source": [
    "# Imprime la información general/resumida sobre el DataFrame de internet\n",
    "df_internet.info()"
   ]
  },
  {
   "cell_type": "code",
   "execution_count": null,
   "id": "f028685c",
   "metadata": {},
   "outputs": [],
   "source": [
    "# Imprime una muestra de datos para el tráfico de internet\n",
    "df_internet.head()"
   ]
  },
  {
   "cell_type": "code",
   "execution_count": null,
   "id": "04f5f7ec",
   "metadata": {},
   "outputs": [],
   "source": [
    "# se usa el método describe para una exploración de los datos (estadísticas descriptivas)\n",
    "df_internet.describe()"
   ]
  },
  {
   "cell_type": "code",
   "execution_count": null,
   "id": "38bb017c",
   "metadata": {},
   "outputs": [],
   "source": [
    "# Se verifica si hay valores nulos y duplicados\n",
    "df_internet.isna().sum()"
   ]
  },
  {
   "cell_type": "code",
   "execution_count": null,
   "id": "a0924f70",
   "metadata": {},
   "outputs": [],
   "source": [
    "df_internet.duplicated().sum()"
   ]
  },
  {
   "cell_type": "code",
   "execution_count": null,
   "id": "edf99c7c",
   "metadata": {},
   "outputs": [],
   "source": [
    "# Se verifica si hay usuarios que no usaron internet\n",
    "# Se filtra el DataFrame\n",
    "df_internet[df_internet['mb_used'] == 0].head()"
   ]
  },
  {
   "cell_type": "markdown",
   "id": "e9b19bb3",
   "metadata": {},
   "source": [
    "<span style=\"color:green\"> Se tienen 4 columnas con 104825 filas, la columna `id` tiene un tipo de dato *object*, también está combinado con el **user_id**, por lo tanto se dejarán así esos datos. La columna `session_date` tiene un tipo de dato *object* por lo tanto se cambiará a tipo fecha (datetime). Con los métodos `isna().sum()` y `duplicated().sum()` se verificó si hay valores nulos en el DataFrame y no los hay en este caso. En promedio los usuarios o usuarias usan 366 mb.\n",
    "</span>"
   ]
  },
  {
   "cell_type": "markdown",
   "id": "3df0c30e",
   "metadata": {},
   "source": [
    "### 5.1 Corregir los datos <a id='corregir_internet'></a>"
   ]
  },
  {
   "cell_type": "code",
   "execution_count": null,
   "id": "01e7085a",
   "metadata": {},
   "outputs": [],
   "source": [
    "# Se cambia el tipo de dato de la columna 'message_date' con el método to_datetime()\n",
    "df_internet['session_date'] = pd.to_datetime(df_internet['session_date'])"
   ]
  },
  {
   "cell_type": "code",
   "execution_count": null,
   "id": "dae3cb1c",
   "metadata": {},
   "outputs": [],
   "source": [
    "# Con el atributo dtypes se verifica el cambio de tipos de datos \n",
    "df_internet.dtypes"
   ]
  },
  {
   "cell_type": "markdown",
   "id": "5e29b986",
   "metadata": {},
   "source": [
    "### 5.2 Enriquecer los datos <a id='enriquecer_internet'></a>"
   ]
  },
  {
   "cell_type": "markdown",
   "id": "95a4c9cf",
   "metadata": {},
   "source": [
    "<span style=\"color:green\"> Se crea una columna para el mes de la sesión.\n",
    "</span>"
   ]
  },
  {
   "cell_type": "code",
   "execution_count": null,
   "id": "5170b85a",
   "metadata": {},
   "outputs": [],
   "source": [
    "# Se crea la columna 'session_month' y se usa el atributo df.month sobre la columna 'session_date' para extraer únicamente el mes\n",
    "df_internet['session_month'] = df_internet['session_date'].dt.month"
   ]
  },
  {
   "cell_type": "code",
   "execution_count": null,
   "id": "b985370a",
   "metadata": {},
   "outputs": [],
   "source": [
    "# Se conservan los datos donde los usuarios si tuvieron consumo de interntet\n",
    "# Se filtra el DataFrame\n",
    "df_internet = df_internet[~(df_internet['mb_used'] == 0)]\n",
    "df_internet.head()"
   ]
  },
  {
   "cell_type": "code",
   "execution_count": null,
   "id": "a20955af",
   "metadata": {},
   "outputs": [],
   "source": [
    "# Se Transforman los megabytes a gigabytes\n",
    "df_internet['mb_used'] = df_internet['mb_used']/1024\n",
    "# se renombra la columna \n",
    "df_internet = df_internet.rename(columns= {'mb_used':'gb_used'})"
   ]
  },
  {
   "cell_type": "code",
   "execution_count": null,
   "id": "13a09445",
   "metadata": {},
   "outputs": [],
   "source": [
    "# Se redondea al entero superior inmediato\n",
    "df_internet['gb_used'] = df_internet['gb_used'].apply(np.ceil)\n",
    "df_internet.head()"
   ]
  },
  {
   "cell_type": "markdown",
   "id": "3d3ec532",
   "metadata": {},
   "source": [
    "## 6 Estudiar las condiciones de las tarifas <a id='condiciones_tarifa'></a>"
   ]
  },
  {
   "cell_type": "code",
   "execution_count": null,
   "id": "6f013a54",
   "metadata": {},
   "outputs": [],
   "source": [
    "# Imprime las condiciones de la tarifa y asegúrate de que te quedan claras\n",
    "df_plans"
   ]
  },
  {
   "cell_type": "code",
   "execution_count": null,
   "id": "8ed6d2c9",
   "metadata": {},
   "outputs": [],
   "source": [
    "# Calcula el número de llamadas hechas por cada usuario al mes. Guarda el resultado.\n",
    "# Se hace un merge de los DataFrames df_users y df_calls para complementar la información\n",
    "merge_users_calls = df_users.merge(df_calls, on= 'user_id')\n",
    "merge_users_calls.head()"
   ]
  },
  {
   "cell_type": "code",
   "execution_count": null,
   "id": "5474ce4a",
   "metadata": {},
   "outputs": [],
   "source": [
    "# Se agrupan las llamadas por usuarios y mes, se contabilizan las llamadas hechas con count()\n",
    "# El Series resultante se asigna a num_calls\n",
    "num_calls = merge_users_calls.groupby(['user_id', 'plan', 'call_month'])['duration'].count()\n",
    "num_calls"
   ]
  },
  {
   "cell_type": "code",
   "execution_count": null,
   "id": "d8ebeefc",
   "metadata": {},
   "outputs": [],
   "source": [
    "# Calcula la cantidad de minutos usados por cada usuario al mes. Guarda el resultado.\n",
    "# Se agrupan las llamadas por usuarios y mes, se suman los minutos de las llamadas hechas con sum()\n",
    "# El Series resultante se asigna a sum_minutes\n",
    "sum_minutes = merge_users_calls.groupby(['user_id', 'plan', 'call_month'])['duration'].sum()\n",
    "sum_minutes"
   ]
  },
  {
   "cell_type": "code",
   "execution_count": null,
   "id": "776bc6ac",
   "metadata": {
    "lines_to_next_cell": 2
   },
   "outputs": [],
   "source": [
    "# Calcula el número de mensajes enviados por cada usuario al mes. Guarda el resultado.\n",
    "# Se hace un merge de los DataFrames df_users y df_messages para complementar la información\n",
    "merge_users_messages = df_users.merge(df_messages, on= 'user_id')\n",
    "merge_users_messages.head()"
   ]
  },
  {
   "cell_type": "code",
   "execution_count": null,
   "id": "d0e14804",
   "metadata": {},
   "outputs": [],
   "source": [
    "# Se agrupan los mensajes por usuarios y mes, se contabilizan los mensajes enviados con count() de la columna 'id'\n",
    "# El Series resultante se asigna a sum_minutes\n",
    "count_messages = merge_users_messages.groupby(['user_id','plan', 'message_month'])['id'].count()\n",
    "count_messages"
   ]
  },
  {
   "cell_type": "code",
   "execution_count": null,
   "id": "0035f2db",
   "metadata": {},
   "outputs": [],
   "source": [
    "# Calcula el volumen del tráfico de Internet usado por cada usuario al mes. Guarda el resultado.\n",
    "# Se hace un merge de los DataFrames df_users y df_internet para complementar la información\n",
    "merge_users_internet = df_users.merge(df_internet, on= 'user_id')\n",
    "merge_users_internet.head()"
   ]
  },
  {
   "cell_type": "code",
   "execution_count": null,
   "id": "aee1ae91",
   "metadata": {},
   "outputs": [],
   "source": [
    "# Se agrupan el el volumen del tráfico de Internet usado por usuarios y mes, se contabilizan se suman los datos con sum() de la columna 'mb_used'\n",
    "# El Series resultante se asigna a sum_internet\n",
    "sum_internet = merge_users_internet.groupby(['user_id', 'plan', 'session_month'])['gb_used'].sum()\n",
    "sum_internet"
   ]
  },
  {
   "cell_type": "code",
   "execution_count": null,
   "id": "8dfd2993",
   "metadata": {},
   "outputs": [],
   "source": [
    "# Fusiona los datos de llamadas, minutos, mensajes e Internet con base en user_id y month\n",
    "# Los Series num_calls, sum_minutes, count_message y sum_internet se concatenan con concat, con axis= 'columns' para asegurarnos de que se combinaran como columnas\n",
    "calls_mints_internet = pd.concat([num_calls, sum_minutes, count_messages, sum_internet], axis='columns')\n",
    "# Se renombran las columnas\n",
    "calls_mints_internet.columns = ['total_calls', 'sum_minutes', 'count_messages', 'vol_internet']\n",
    "# con reset_index() se reinicia el índice del DataFrame calls_mints_internet\n",
    "calls_mints_internet.reset_index(inplace= True)"
   ]
  },
  {
   "cell_type": "code",
   "execution_count": null,
   "id": "0b0023d2",
   "metadata": {},
   "outputs": [],
   "source": [
    "# Se imprime una muestra de datos del DataFrame calls_mints_internet\n",
    "calls_mints_internet.head()"
   ]
  },
  {
   "cell_type": "markdown",
   "id": "28905439",
   "metadata": {},
   "source": [
    "<span style=\"color:green\"> Después de reiniciar el índice del DataFrame `calls_mints_internet`, el nombre de la columna del mes se asigno el nombre de `level_2` el cual se cambiará por `month` con el método `rename`. \n",
    "</span>"
   ]
  },
  {
   "cell_type": "code",
   "execution_count": null,
   "id": "1c8803e5",
   "metadata": {
    "lines_to_next_cell": 1
   },
   "outputs": [],
   "source": [
    "# Se cambia el nombre de la columna 'level_2' por 'month'\n",
    "calls_mints_internet = calls_mints_internet.rename(columns= {'level_2':'month'})\n",
    "# Se imprime una muestra de datos del DataFrame calls_mints_internet\n",
    "calls_mints_internet.head()"
   ]
  },
  {
   "cell_type": "code",
   "execution_count": null,
   "id": "23218851",
   "metadata": {
    "lines_to_next_cell": 1
   },
   "outputs": [],
   "source": [
    "# Se crea una función para asignar la tarifa con base al plan del usuario\n",
    "def monthly_pay(plan):\n",
    "    if plan == 'ultimate':\n",
    "        return 70\n",
    "    else:\n",
    "        return 20"
   ]
  },
  {
   "cell_type": "code",
   "execution_count": null,
   "id": "fb03fce9",
   "metadata": {
    "lines_to_next_cell": 2
   },
   "outputs": [],
   "source": [
    "# Añade la información de la tarifa\n",
    "# Se crea la columna 'monthly_pay' donde se asigna la tarifa con la función que se creó 'monthly_pay()'\n",
    "# con el método apply() se aplica a la columna 'monthly_pay'\n",
    "calls_mints_internet['monthly_pay'] = calls_mints_internet['plan'].apply(monthly_pay)"
   ]
  },
  {
   "cell_type": "code",
   "execution_count": null,
   "id": "bd52f228",
   "metadata": {},
   "outputs": [],
   "source": [
    "# Se imprime una muestra de datos del DataFrame calls_mints_internet, esta ocasión usando el método sample()\n",
    "calls_mints_internet.sample(10)"
   ]
  },
  {
   "cell_type": "code",
   "execution_count": null,
   "id": "cbc235c9",
   "metadata": {},
   "outputs": [],
   "source": [
    "# se verifican los datos nulos\n",
    "calls_mints_internet.isna().sum()"
   ]
  },
  {
   "cell_type": "markdown",
   "id": "97b88179",
   "metadata": {},
   "source": [
    "<span style=\"color:green\"> Al fusionar los datos de las llamadas, minutos, mensajes e Internet, en algunos casos algunos valores son nulos (`NaN`), ya que en algunos casos en determinado mes el usuario o usuaria sólo usó los minutos para llamadas, mensajes o Internet, los otros servicios no los usó, los cuales se reemplazarán con 0.\n",
    "</span>"
   ]
  },
  {
   "cell_type": "code",
   "execution_count": null,
   "id": "eeee8122",
   "metadata": {
    "lines_to_next_cell": 1
   },
   "outputs": [],
   "source": [
    "calls_mints_internet.fillna(0, inplace= True)"
   ]
  },
  {
   "cell_type": "markdown",
   "id": "ca944a4c",
   "metadata": {},
   "source": [
    "<span style=\"color:green\"> Para calcular los ingresos mensuales por usuario o usuaria, se crea un función para  calcular los el costo de los minutos extra, el costo de los mensajes extra y los gibabytes extra, es decir tres funciones para cada cálculo.  Y otra función será `total_pay()` lo que hará es sumar el costo extra de los minutos, mensajes e internet a la tarifa mensual del plan.\n",
    "</span>"
   ]
  },
  {
   "cell_type": "code",
   "execution_count": null,
   "id": "0071184e",
   "metadata": {
    "lines_to_next_cell": 1
   },
   "outputs": [],
   "source": [
    "def extra_minutes(minutes_used, plan_name, plan_limit):\n",
    "    '''\n",
    "    Función para calcular el costo de los minutos extra de acuerdo al plan. Si el cliente usa menos o la misma\n",
    "    cantidad de minutos de llamada no se le cobra nada extra, pero si se exceden los límites del \n",
    "    paquete se calculan los recursos extra que se hayan excedido y se devuelve ese valor/costo extra.\n",
    "    '''\n",
    "    if plan_name == 'ultimate':\n",
    "        if minutes_used <= plan_limit:\n",
    "            return 0\n",
    "        else:\n",
    "            minutes_extra = minutes_used - plan_limit\n",
    "            return minutes_extra * 0.01\n",
    "    else:\n",
    "        if minutes_used <= plan_limit:\n",
    "            return 0\n",
    "        else:\n",
    "            minutes_extra = minutes_used - plan_limit\n",
    "            return minutes_extra * 0.03\n",
    "        \n",
    "def extra_messages(messages_used, plan_name, plan_limit):\n",
    "    '''\n",
    "    Función para calcular el costo de los mensajes extra de acuerdo al plan. Si el cliente usa menos o la misma\n",
    "    cantidad de mensajes no se le cobra nada extra, pero si se exceden los límites del \n",
    "    paquete se calculan los recursos extra que se hayan excedido y se devuelve ese valor/costo extra.\n",
    "    '''\n",
    "    if plan_name == 'ultimate':\n",
    "        if messages_used <= plan_limit:\n",
    "            return 0\n",
    "        else:\n",
    "            messages_extra = messages_used - plan_limit\n",
    "            return messages_extra * 0.01\n",
    "    else:\n",
    "        if messages_used <= plan_limit:\n",
    "            return 0\n",
    "        else:\n",
    "            messages_extra = messages_used - plan_limit\n",
    "            return messages_extra * 0.03\n",
    "        \n",
    "def extra_internet(internet_used, plan_name, plan_limit):\n",
    "    '''\n",
    "    Función para calcular el costo del internet o gigas extra de acuerdo al plan. Si el cliente usa menos o la misma\n",
    "    cantidad de gigabytes no se le cobra nada extra, pero si se exceden los límites del \n",
    "    paquete se calculan los recursos extra que se hayan excedido y se devuelve ese valor/costo extra.\n",
    "    '''\n",
    "    if plan_name == 'ultimate':\n",
    "    \n",
    "        if internet_used <= plan_limit:\n",
    "            return 0\n",
    "        else:\n",
    "            internet_extra = internet_used - plan_limit\n",
    "            return internet_extra * 7\n",
    "    else:\n",
    "        if internet_used <= plan_limit:\n",
    "            return 0\n",
    "        else:\n",
    "            internet_extra = internet_used - plan_limit\n",
    "            return internet_extra * 10\n",
    "\n",
    "def total_pay(df):\n",
    "    '''\n",
    "    Función que calcula el total del pago, se suman los recursos extra a la tarifa base de acuerdo al plan.\n",
    "    '''\n",
    "    plan = df['plan']\n",
    "    minutos = df['sum_minutes']\n",
    "    mensajes = df['count_messages']\n",
    "    internet = df['vol_internet']\n",
    "\n",
    "    if plan == 'ultimate':\n",
    "        \n",
    "        minutes_extra_usd = extra_minutes(minutos, plan, 3000) # costo de los minutos extra\n",
    "        messages_extra_usd = extra_messages(mensajes, plan, 1000) # costo de los mensajes extra\n",
    "        internet_extra_usd = extra_internet(internet, plan, 30) # costo de los gigas extra\n",
    "        total_pay = 70 + minutes_extra_usd + messages_extra_usd + internet_extra_usd # pago total\n",
    "\n",
    "    else:\n",
    "        minutes_extra_usd = extra_minutes(minutos, plan, 500)\n",
    "        messages_extra_usd = extra_messages(mensajes, plan, 50)\n",
    "        internet_extra_usd = extra_internet(internet, plan, 15)\n",
    "        total_pay = 20 + minutes_extra_usd + messages_extra_usd + internet_extra_usd\n",
    "\n",
    "    return total_pay"
   ]
  },
  {
   "cell_type": "code",
   "execution_count": null,
   "id": "10571798",
   "metadata": {},
   "outputs": [],
   "source": [
    "# Calcula el ingreso mensual para cada usuario\n",
    "# se crea una columna nueva 'usd_total_pay'\n",
    "# se emplea el método apply() con la función total_pay() sobre el DataFrame 'calls_mints_internet'\n",
    "# apply() se usa con axis= 1 para que pase los valores de fila de la función\n",
    "calls_mints_internet['usd_total_pay'] = calls_mints_internet.apply(total_pay, axis= 1)"
   ]
  },
  {
   "cell_type": "code",
   "execution_count": null,
   "id": "6965ea41",
   "metadata": {},
   "outputs": [],
   "source": [
    "# Se imprime una muestra de datos del DataFrame calls_mints_internet\n",
    "calls_mints_internet.head()"
   ]
  },
  {
   "cell_type": "markdown",
   "id": "ffeecdf2",
   "metadata": {},
   "source": [
    "<span style=\"color:green\"> Ahora el DataFrame `calls_mints_internet` tiene los ingresos mensuales por usuario, esta tarea fue más facil de realizar debido a la función `total_pay()` que se creó.\n",
    "</span>"
   ]
  },
  {
   "cell_type": "markdown",
   "id": "a123b735",
   "metadata": {},
   "source": [
    "## 7 Estudia el comportamiento de usuario <a id='usuario_comportamiento'></a>"
   ]
  },
  {
   "cell_type": "markdown",
   "id": "f7daf6bd",
   "metadata": {},
   "source": [
    "### 7.1 Llamadas <a id='llamadas_comportamiento'></a>"
   ]
  },
  {
   "cell_type": "code",
   "execution_count": null,
   "id": "2ec083a1",
   "metadata": {},
   "outputs": [],
   "source": [
    "# Compara la duración promedio de llamadas por cada plan y por cada mes. Traza un gráfico de barras para visualizarla. \n",
    "# Se filtra el DataFrame sólo para el plan surf y se guarda en surf_plan\n",
    "surf_plan = calls_mints_internet[calls_mints_internet['plan'] == 'surf']\n",
    "surf_plan.head()"
   ]
  },
  {
   "cell_type": "code",
   "execution_count": null,
   "id": "0c4d96a9",
   "metadata": {},
   "outputs": [],
   "source": [
    "# Se filtra el DataFrame sólo para el plan ultimate y se guarda en ultimate_plan\n",
    "ultimate_plan = calls_mints_internet[calls_mints_internet['plan'] == 'ultimate']\n",
    "ultimate_plan.head()"
   ]
  },
  {
   "cell_type": "code",
   "execution_count": null,
   "id": "a6312e56",
   "metadata": {},
   "outputs": [],
   "source": [
    "# Se agrupa por mes el DataFrame 'surf_plan' y se calcula el promedio de los minutos de las llamadas (columna 'sum_minutes')\n",
    "# EL resultado se asigna a 'month_surf_mean'\n",
    "month_surf_mean = surf_plan.groupby('month')['sum_minutes'].mean()\n",
    "month_surf_mean"
   ]
  },
  {
   "cell_type": "code",
   "execution_count": null,
   "id": "1f520db7",
   "metadata": {},
   "outputs": [],
   "source": [
    "# Se agrupa por mes el DataFrame 'month_ultimate_mean' y se calcula el promedio de los minutos de las llamadas (columna 'sum_minutes')\n",
    "# EL resultado se asigna a 'month_ultimate_mean'\n",
    "month_ultimate_mean = ultimate_plan.groupby('month')['sum_minutes'].mean()\n",
    "month_ultimate_mean"
   ]
  },
  {
   "cell_type": "code",
   "execution_count": null,
   "id": "6cacf7b1",
   "metadata": {},
   "outputs": [],
   "source": [
    "# se concatenan los Series 'month_surf_mean' y 'month_ultimate_mean'\n",
    "surf_ultimate_mean = pd.concat([month_surf_mean, month_ultimate_mean], axis='columns')\n",
    "# Se renombran las columnas\n",
    "surf_ultimate_mean.columns = ['min_mean_surf', 'min_mean_ultimate']\n",
    "# con reset_index() se reinicia el índice del DataFrame 'surf_ultimate_mean'\n",
    "surf_ultimate_mean.reset_index(inplace= True)\n",
    "surf_ultimate_mean"
   ]
  },
  {
   "cell_type": "code",
   "execution_count": null,
   "id": "82feee00",
   "metadata": {},
   "outputs": [],
   "source": [
    "# Se grafica la duración promedio de llamadas por cada plan y por cada mes\n",
    "surf_ultimate_mean.plot(x= 'month',\n",
    "                       kind= 'bar',\n",
    "                       figsize= [12,8],\n",
    "                       fontsize= 12,\n",
    "                       rot= 360\n",
    "                       )\n",
    "plt.title('Duración promedio de llamadas por plan y mes', fontsize=15)\n",
    "plt.xlabel('Mes', fontsize=15)\n",
    "plt.ylabel('Duración promedio de llamadas (minutos)', fontsize=15)\n",
    "plt.legend(['Plan Surf', 'Plan Ultimate'], fontsize= 14)\n",
    "plt.show()"
   ]
  },
  {
   "cell_type": "code",
   "execution_count": null,
   "id": "45d6e6c2",
   "metadata": {
    "lines_to_next_cell": 2
   },
   "outputs": [],
   "source": [
    "# Compara el número de minutos mensuales que necesitan los usuarios de cada plan. Traza un histograma.\n",
    "# A partir de los DataFrames 'surf_plan' y 'ultimate_plan' se crean sus respectivos histogramas en el mismo gráfico\n",
    "surf_plan['sum_minutes'].plot(kind='hist',\n",
    "                              bins= 60, \n",
    "                              alpha= 0.6,\n",
    "                              figsize= [12,8]\n",
    "                             )\n",
    "ultimate_plan['sum_minutes'].plot(kind='hist',\n",
    "                              bins= 60, \n",
    "                              alpha= 0.6,\n",
    "                              figsize= [12,8]\n",
    "                             )\n",
    "\n",
    "\n",
    "plt.title('Número de minutos mensuales por plan', fontsize= 14) # para colocar un título\n",
    "plt.ylabel('Frecuencia', fontsize= 14) # Para nombrar el eje y\n",
    "plt.legend(['Plan Surf', 'Plan Ultimate'], fontsize= 12) # para colocar las leyendas del gráfico\n",
    "plt.show()"
   ]
  },
  {
   "cell_type": "code",
   "execution_count": null,
   "id": "a32c3617",
   "metadata": {},
   "outputs": [],
   "source": [
    "print('Plan Surf:')\n",
    "# Se calcula la varianza con var() de la duración mensual de llamadas.\n",
    "print('La varianza de los minutos es:', round(surf_plan['sum_minutes'].var(), 1))\n",
    "# se calcula la moda de los datos con mode() de la duración mensual de llamadas.\n",
    "print('La moda de los minutos es:', surf_plan['sum_minutes'].mode()[0])\n",
    "# se emplea el método describe() para calcular los estadísticos descriptivos como la media, mediana, desviación estándar\n",
    "print(surf_plan['sum_minutes'].describe())"
   ]
  },
  {
   "cell_type": "code",
   "execution_count": null,
   "id": "657ae399",
   "metadata": {},
   "outputs": [],
   "source": [
    "print('Plan Ultimate:')\n",
    "# Se calcula la varianza con var() de la duración mensual de llamadas.\n",
    "print('La varianza de los minutos es:', round(ultimate_plan['sum_minutes'].var(), 1))\n",
    "# se calcula la moda de los datos con mode() de la duración mensual de llamadas.\n",
    "print('La moda de los minutos es:', ultimate_plan['sum_minutes'].mode()[0])\n",
    "# se emplea el método describe() para calcular los estadísticos descriptivos como la media, mediana, desviación estándar\n",
    "print(ultimate_plan['sum_minutes'].describe())"
   ]
  },
  {
   "cell_type": "code",
   "execution_count": null,
   "id": "27bbb143",
   "metadata": {
    "lines_to_next_cell": 2
   },
   "outputs": [],
   "source": [
    "# Traza un diagrama de caja para visualizar la distribución de la duración mensual de llamadas\n",
    "calls_mints_internet.boxplot(column= 'sum_minutes',\n",
    "                             by= 'plan',\n",
    "                             fontsize= 12,\n",
    "                             grid= False,\n",
    "                             figsize= [12,8]\n",
    "                             )\n",
    "plt.title('Distribución de la duración mensual de llamadas por plan', fontsize= 14) # para colocar un título\n",
    "plt.xlabel('Plan', fontsize= 14) # Para nombrar el eje x\n",
    "plt.ylabel('Duración promedio de llamadas (minutos)', fontsize= 14) # Para nombrar el eje y\n",
    "plt.show()"
   ]
  },
  {
   "cell_type": "markdown",
   "id": "0c91dc7d",
   "metadata": {},
   "source": [
    "<span style=\"color:green\">  **Conclusiones:**  \n",
    "• En el gráfico de barras se puede ver que en febrero (mes 2) hay un mayor número de minutos para los usuarios del plan Ultimate y en junio (mes 6) para los usuarios del plan Surf, para el resto de los meses no se observa una diferencia muy grande.  \n",
    "• Con base en el histograma se observa que para mabos planes se observa una distribución similar, pero hay más datos para el plan surf. \n",
    "• Al calcular la media para ambos planes es muy similar y ambas tienen una varianza muy grande, esto quiere decir que los datos están muy separados de la media. Lo mismo sucede con la desviación estándar, que es de 234.4 y 240.5 para el plan Surf y Ultimate, respectivamente, lo cual indica que los datos son muy hetegéneos.  \n",
    "• Con el diagrama de caja podemos observar valores atípicos, ya que hay valores mayores que el valor máximo (1.5 veces el rango intercuartílico (IQR) del cuartil Q3). Lo anterior sucede para ambos planes. Para el plan Surf el valor máximo es de 1510 y para el plan Ultimate 1369.\n",
    "</span>"
   ]
  },
  {
   "cell_type": "markdown",
   "id": "339c7e6f",
   "metadata": {},
   "source": [
    "### 7.2 Mensajes <a id='mensajes_comportamiento'></a>"
   ]
  },
  {
   "cell_type": "code",
   "execution_count": null,
   "id": "23034704",
   "metadata": {
    "lines_to_next_cell": 2
   },
   "outputs": [],
   "source": [
    "# Comprara el número de mensajes que tienden a enviar cada mes los usuarios de cada plan\n",
    "# Se agrupa por mes el DataFrame 'surf_plan' y se calcula el promedio de los mensajes (columna 'count_messages')\n",
    "# EL resultado se asigna a 'month_surf_mean_messages'\n",
    "month_surf_mean_messages = surf_plan.groupby('month')['count_messages'].mean()\n",
    "month_surf_mean_messages"
   ]
  },
  {
   "cell_type": "code",
   "execution_count": null,
   "id": "e64c34c6",
   "metadata": {},
   "outputs": [],
   "source": [
    "# Se agrupa por mes el DataFrame 'ultimate_plan' y se calcula el promedio de los mensajes (columna 'count_messages')\n",
    "# EL resultado se asigna a 'month_surf_mean_messages'\n",
    "month_ultimate_mean_messages = ultimate_plan.groupby('month')['count_messages'].mean()\n",
    "month_ultimate_mean_messages"
   ]
  },
  {
   "cell_type": "code",
   "execution_count": null,
   "id": "611dbe22",
   "metadata": {
    "lines_to_next_cell": 2
   },
   "outputs": [],
   "source": [
    "# se concatenan los Series 'month_surf_mean_messages' y 'month_ultimate_mean_messages'\n",
    "surf_ultimate_mean_messages = pd.concat([month_surf_mean_messages, month_ultimate_mean_messages], axis='columns')\n",
    "# Se renombran las columnas\n",
    "surf_ultimate_mean_messages.columns = ['messages_mean_surf', 'messages_mean_ultimate']\n",
    "# con reset_index() se reinicia el índice del DataFrame 'surf_ultimate_mean_messages'\n",
    "surf_ultimate_mean_messages.reset_index(inplace= True)\n",
    "surf_ultimate_mean_messages"
   ]
  },
  {
   "cell_type": "code",
   "execution_count": null,
   "id": "18964104",
   "metadata": {},
   "outputs": [],
   "source": [
    "# Se grafica la cantidad promedio de mensajes por cada plan y por cada mes\n",
    "surf_ultimate_mean_messages.plot(x= 'month',\n",
    "                       kind= 'bar',\n",
    "                       figsize= [12,8],\n",
    "                       fontsize= 12, \n",
    "                       rot= 360\n",
    "                       )\n",
    "plt.title('Mensajes promedio por plan y mes', fontsize=15)\n",
    "plt.xlabel('Mes', fontsize=15)\n",
    "plt.ylabel('Cantidad promedio de mensajes', fontsize=15)\n",
    "plt.legend(['Plan Surf', 'Plan Ultimate'], fontsize= 14)\n",
    "plt.show()"
   ]
  },
  {
   "cell_type": "code",
   "execution_count": null,
   "id": "7411d48c",
   "metadata": {},
   "outputs": [],
   "source": [
    "# A partir de los DataFrames 'surf_plan' y 'ultimate_plan' se crean sus respectivos histogramas en el mismo gráfico\n",
    "surf_plan['count_messages'].plot(kind='hist',\n",
    "                              bins= 40, \n",
    "                              alpha= 0.6,\n",
    "                              figsize= [14,8],\n",
    "                              xticks= range(0,300,20)\n",
    "                             )\n",
    "ultimate_plan['count_messages'].plot(kind='hist',\n",
    "                              bins= 40, \n",
    "                              alpha= 0.6,\n",
    "                              figsize= [14,8],\n",
    "                              xticks= range(0,300,20)\n",
    "                             )\n",
    "\n",
    "\n",
    "plt.title('Cantidad de mensajes por plan', fontsize= 14) # para colocar un título\n",
    "plt.ylabel('Frecuencia', fontsize= 14) # Para nombrar el eje y\n",
    "plt.legend(['Plan Surf', 'Plan Ultimate'], fontsize= 12) # para colocar las leyendas del gráfico\n",
    "plt.show()"
   ]
  },
  {
   "cell_type": "code",
   "execution_count": null,
   "id": "798972b3",
   "metadata": {},
   "outputs": [],
   "source": [
    "print('Plan Surf:')\n",
    "# Se calcula la varianza con var() de la cantidad de mensajes.\n",
    "print('La varianza de los minutos es:', round(surf_plan['count_messages'].var(), 1))\n",
    "# se calcula la moda de los datos con mode() de la cantidad de mensajes\n",
    "print('La moda de los minutos es:', surf_plan['count_messages'].mode()[0])\n",
    "# se emplea el método describe() para calcular los estadísticos descriptivos como la media, mediana, desviación estándar\n",
    "print(surf_plan['count_messages'].describe())"
   ]
  },
  {
   "cell_type": "code",
   "execution_count": null,
   "id": "bdd2794a",
   "metadata": {},
   "outputs": [],
   "source": [
    "print('Plan Ultimate:')\n",
    "# Se calcula la varianza con var() de la cantidad de mensajes.\n",
    "print('La varianza de los minutos es:', round(ultimate_plan['count_messages'].var(), 1))\n",
    "# se calcula la moda de los datos con mode() de la cantidad de mensajes\n",
    "print('La moda de los minutos es:', ultimate_plan['count_messages'].mode()[0])\n",
    "# se emplea el método describe() para calcular los estadísticos descriptivos como la media, mediana, desviación estándar\n",
    "print(ultimate_plan['count_messages'].describe())"
   ]
  },
  {
   "cell_type": "code",
   "execution_count": null,
   "id": "b56fe501",
   "metadata": {},
   "outputs": [],
   "source": [
    "# Se traza un diagrama de caja para visualizar la distribución de los mensajes enviados\n",
    "calls_mints_internet.boxplot(column= 'count_messages',\n",
    "                             by= 'plan',\n",
    "                             fontsize= 12,\n",
    "                             grid= False,\n",
    "                             figsize= [12,8]\n",
    "                             )\n",
    "plt.title('Distribución de los mensajes enviados por plan', fontsize= 14) # para colocar un título\n",
    "plt.xlabel('Plan', fontsize= 14) # Para nombrar el eje x\n",
    "plt.ylabel('No. de Mensajes', fontsize= 14) # Para nombrar el eje y\n",
    "plt.show()"
   ]
  },
  {
   "cell_type": "markdown",
   "id": "dd9f1f75",
   "metadata": {},
   "source": [
    "<span style=\"color:green\"> **Conclusiones:**  \n",
    "• En el gráfico de barras se puede observar que durabte todos los meses del año los usuarios del plan ultimate en promedio enviaron más mensajes.\n",
    "• Con base en el histograma se observa que los mensajes enviados esta entre 0 y 5, para ambos planes se observa una distribución similar. Además el histrograma tiene un sesgo hacia la derecha, es decir no es una distribución simétrica. La cantidad de mensajes más frecuentes para el plan Surf son 0, mientras que para el plan ultimate también son 0.     \n",
    "• Al calcular la media para ambos planes la cantidad de mensajes enviados es muy similar y ambos planes tienen una varianza muy grande, esto quiere decir que los datos están muy separados de la media. Con la desviación estandar podemos saber que el 68 % de los datos están entre 0 y 64.6 para el plan Surf y pararl plan Ultimate están entre 2.79 y 72.3.  \n",
    "• Con el diagrama de caja podemos observar valores atípicos, ya que hay valores mayores que el valor máximo (1.5 veces el rango intercuartílico (IQR) del cuartil Q3). Lo anterior sucede para ambos planes. El valor máximo para el plan Surf es de 266 mensajes y para el plan Ultimate 166.\n",
    "</span>"
   ]
  },
  {
   "cell_type": "markdown",
   "id": "1b310ced",
   "metadata": {},
   "source": [
    "### 7.3 Internet <a id='internet_comportamiento'></a>"
   ]
  },
  {
   "cell_type": "code",
   "execution_count": null,
   "id": "294661e6",
   "metadata": {
    "lines_to_next_cell": 2
   },
   "outputs": [],
   "source": [
    "# Compara la cantidad de tráfico de Internet consumido por usuarios por plan\n",
    "# Se agrupa por mes el DataFrame 'surf_plan' y se calcula el promedio del tráfico de internet (columna 'vol_internet')\n",
    "# EL resultado se asigna a 'month_surf_mean_internet'\n",
    "month_surf_mean_internet = surf_plan.groupby('month')['vol_internet'].mean()\n",
    "month_surf_mean_internet"
   ]
  },
  {
   "cell_type": "code",
   "execution_count": null,
   "id": "56b297a2",
   "metadata": {},
   "outputs": [],
   "source": [
    "# Se agrupa por mes el DataFrame 'ultimate_plan' y se calcula el promedio del tráfico de internet (columna 'vol_internet')\n",
    "# EL resultado se asigna a 'month_ultimate_mean_internet'\n",
    "month_ultimate_mean_internet = ultimate_plan.groupby('month')['vol_internet'].mean()\n",
    "month_ultimate_mean_internet"
   ]
  },
  {
   "cell_type": "code",
   "execution_count": null,
   "id": "b40eaf12",
   "metadata": {},
   "outputs": [],
   "source": [
    "# se concatenan los Series 'month_surf_mean_internet' y 'month_ultimate_mean_internet'\n",
    "surf_ultimate_mean_internet = pd.concat([month_surf_mean_internet, month_ultimate_mean_internet], axis='columns')\n",
    "# Se renombran las columnas\n",
    "surf_ultimate_mean_internet.columns = ['internet_mean_surf', 'internet_mean_ultimate']\n",
    "# con reset_index() se reinicia el índice del DataFrame 'surf_ultimate_mean_messages'\n",
    "surf_ultimate_mean_internet.reset_index(inplace= True)\n",
    "surf_ultimate_mean_internet"
   ]
  },
  {
   "cell_type": "code",
   "execution_count": null,
   "id": "e9eedbe7",
   "metadata": {},
   "outputs": [],
   "source": [
    "# Se grafica la cantidad promedio de tráfico de internet por cada plan y por cada mes\n",
    "surf_ultimate_mean_internet.plot(x= 'month',\n",
    "                       kind= 'bar',\n",
    "                       figsize= [14,10],\n",
    "                       fontsize= 12, \n",
    "                       rot= 360\n",
    "                       )\n",
    "plt.title('Tráfico de Internet promedio por plan y mes', fontsize=15)\n",
    "plt.xlabel('Mes', fontsize=15)\n",
    "plt.ylabel('Promedio de tráfico de internet (gigabytes)', fontsize=15)\n",
    "plt.legend(['Plan Surf', 'Plan Ultimate'], fontsize= 12)\n",
    "plt.show()"
   ]
  },
  {
   "cell_type": "code",
   "execution_count": null,
   "id": "17f92c6b",
   "metadata": {},
   "outputs": [],
   "source": [
    "# A partir de los DataFrames 'surf_plan' y 'ultimate_plan' se crean sus respectivos histogramas en el mismo gráfico\n",
    "surf_plan['vol_internet'].plot(kind='hist',\n",
    "                              bins= 40, \n",
    "                              alpha= 0.6,\n",
    "                              figsize= [14,8]\n",
    "                             )\n",
    "ultimate_plan['vol_internet'].plot(kind='hist',\n",
    "                              bins= 40, \n",
    "                              alpha= 0.6,\n",
    "                              figsize= [14,8]                              \n",
    "                             )\n",
    "\n",
    "\n",
    "plt.title('Tráfico de internet (gigabytes)', fontsize= 14) # para colocar un título\n",
    "plt.ylabel('Frecuencia', fontsize= 14) # Para nombrar el eje y\n",
    "plt.legend(['Plan Surf', 'Plan Ultimate'], fontsize= 12) # para colocar las leyendas del gráfico\n",
    "plt.show()"
   ]
  },
  {
   "cell_type": "code",
   "execution_count": null,
   "id": "ff9703ed",
   "metadata": {},
   "outputs": [],
   "source": [
    "print('Plan Surf:')\n",
    "# Se calcula la varianza con var() de los gigas usados.\n",
    "print('La varianza de los gigas usados es:', round(surf_plan['vol_internet'].var(), 1))\n",
    "# se calcula la moda de los datos con mode() de los gigas usados\n",
    "print('La moda de los gigas usados es:', surf_plan['vol_internet'].mode()[0], 'y', surf_plan['vol_internet'].mode()[1])\n",
    "# se emplea el método describe() para calcular los estadísticos descriptivos como la media, mediana, desviación estándar\n",
    "print(surf_plan['vol_internet'].describe())"
   ]
  },
  {
   "cell_type": "code",
   "execution_count": null,
   "id": "651146a3",
   "metadata": {},
   "outputs": [],
   "source": [
    "print('Plan Ultimate:')\n",
    "# Se calcula la varianza con var() de los gigas usados.\n",
    "print('La varianza de los gigas usados es:', round(ultimate_plan['vol_internet'].var(), 1))\n",
    "# se calcula la moda de los datos con mode() de los gigas usados\n",
    "print('La moda de los gigas usados es:', ultimate_plan['vol_internet'].mode()[0])\n",
    "# se emplea el método describe() para calcular los estadísticos descriptivos como la media, mediana, desviación estándar\n",
    "print(ultimate_plan['vol_internet'].describe())"
   ]
  },
  {
   "cell_type": "code",
   "execution_count": null,
   "id": "d0bc460c",
   "metadata": {},
   "outputs": [],
   "source": [
    "# Se traza un diagrama de caja para visualizar la distribución del tráfico de internet\n",
    "calls_mints_internet.boxplot(column= 'vol_internet',\n",
    "                             by= 'plan',\n",
    "                             fontsize= 12,\n",
    "                             grid= False,\n",
    "                             figsize= [12,8]\n",
    "                             )\n",
    "plt.title('Distribución del tráfico de internet por plan', fontsize= 14) # para colocar un título\n",
    "plt.xlabel('Plan', fontsize= 14) # Para nombrar el eje x\n",
    "plt.ylabel('Tráfico de internet (gigabytes)', fontsize= 14) # Para nombrar el eje y\n",
    "plt.show()"
   ]
  },
  {
   "cell_type": "markdown",
   "id": "de888a33",
   "metadata": {},
   "source": [
    "<span style=\"color:green\">  **Conclusiones:**  \n",
    "• En el gráfico de barras se puede observar que durante los meses de enero a mayo, los usuarios del plan ultimate usaron más gigabytes. A partir de febrero (mes 2) los usuarios en promedio excedieron el límite de los gigas incluidos en su plan. A partir de julio (mes 7) los usuarios o  usuarias del plan Surf tuvieron consumos similares a los clientes del plan Ultimate. Los usuarios o usuarias del plan Surf a partir de febrero excedieron en el doble el límite de gigas incluidos en su plan. En ambos planes se exceden los gigas incluidos en cada plan, lo cual ocurre a partir de febrero.   \n",
    "• Con base en el histograma se observa que ambos planes tienen una distribución similar. Para el plan Surf los gigas usados más frecuentes son 41 y 50, mientras que para los clientes del plan ultimate es 42.  \n",
    "• Al calcular la media para ambos planes el tráfico de internet es muy similar y para  ambos planes tienen una varianza muy grande, esto quiere decir que los datos están muy separados de la media. Lo mismo ocurre con la desviación estándar, sel 68 % de los datos se encuentran entre 22.3 y 57.98 para el plan Surf, para el plan Ultimate están entre 24.56 y 57.59.  \n",
    "• Con el diagrama de caja podemos observar valores atípicos, ya que también hay valores mayores que el valor máximo (1.5 veces el rango intercuartílico (IQR) del cuartil Q3). Lo anterior sucede para ambos planes, lo cuál se podría deber a los usuarios que exceden el límite de su plan. Para el plan Ultimate también hay valores menores que el valor mínimo.\n",
    "</span>"
   ]
  },
  {
   "cell_type": "markdown",
   "id": "ce67de51",
   "metadata": {},
   "source": [
    "## 8 Ingreso <a id='ingreso'></a>"
   ]
  },
  {
   "cell_type": "code",
   "execution_count": null,
   "id": "9d1078ca",
   "metadata": {},
   "outputs": [],
   "source": [
    "# Se compara la cantidad de tráfico de ingresos por usuarios por plan\n",
    "# Se agrupa por mes el DataFrame 'surf_plan' y se calcula el promedio de los ingresos (columna 'usd_total_pay')\n",
    "# EL resultado se asigna a 'month_surf_mean_internet'\n",
    "month_surf_mean_revenue = surf_plan.groupby('month')['usd_total_pay'].mean()\n",
    "month_surf_mean_revenue"
   ]
  },
  {
   "cell_type": "code",
   "execution_count": null,
   "id": "926d21b4",
   "metadata": {},
   "outputs": [],
   "source": [
    "# Se agrupa por mes el DataFrame 'ultimate_plan' y se calcula el promedio de los ingresos (columna 'usd_total_pay')\n",
    "# EL resultado se asigna a 'month_ultimate_mean_revenue'\n",
    "month_ultimate_mean_revenue = ultimate_plan.groupby('month')['usd_total_pay'].mean()\n",
    "month_ultimate_mean_revenue"
   ]
  },
  {
   "cell_type": "code",
   "execution_count": null,
   "id": "4b959b52",
   "metadata": {},
   "outputs": [],
   "source": [
    "# se concatenan los Series 'month_surf_mean_revenue' y 'month_ultimate_mean_revenue'\n",
    "surf_ultimate_mean_revenue = pd.concat([month_surf_mean_revenue, month_ultimate_mean_revenue], axis='columns')\n",
    "# Se renombran las columnas\n",
    "surf_ultimate_mean_revenue.columns = ['revenue_mean_surf', 'revenue_mean_ultimate']\n",
    "# con reset_index() se reinicia el índice del DataFrame 'surf_ultimate_mean_messages'\n",
    "surf_ultimate_mean_revenue.reset_index(inplace= True)\n",
    "surf_ultimate_mean_revenue"
   ]
  },
  {
   "cell_type": "code",
   "execution_count": null,
   "id": "0b12027f",
   "metadata": {},
   "outputs": [],
   "source": [
    "# Se grafica la cantidad promedio de ingresos por cada plan y por cada mes\n",
    "surf_ultimate_mean_revenue.plot(x= 'month',\n",
    "                       kind= 'bar',\n",
    "                       figsize= [14,10],\n",
    "                       fontsize= 12, \n",
    "                       rot= 360\n",
    "                       )\n",
    "plt.title('Ingresos promedio por plan y mes', fontsize=15)\n",
    "plt.xlabel('Mes', fontsize=15)\n",
    "plt.ylabel('Promedio de ingresos (usd)', fontsize=15)\n",
    "plt.legend(['Plan Surf', 'Plan Ultimate'], fontsize= 12)\n",
    "plt.axhline(y=20, xmin=0, xmax=12, color= 'red') # se agrega una línea para localizar la tarifa mensual del plan\n",
    "plt.axhline(y=70, xmin=0, xmax=12, color= 'darkgrey') # se agrega una línea para localizar la tarifa mensual del plan\n",
    "plt.show()"
   ]
  },
  {
   "cell_type": "markdown",
   "id": "98335d27",
   "metadata": {},
   "source": [
    "<span style=\"color:green\"> Ahora los histogramas para los ingresos por plan se grafican por separado para una mejor visualización de los datos.\n",
    "</span>"
   ]
  },
  {
   "cell_type": "code",
   "execution_count": null,
   "id": "8437b49c",
   "metadata": {},
   "outputs": [],
   "source": [
    "surf_plan['usd_total_pay'].plot(kind='hist',\n",
    "                              bins= 50,\n",
    "                              alpha= 0.6,\n",
    "                              figsize= [14,8]\n",
    "                               )\n",
    "\n",
    "ultimate_plan['usd_total_pay'].plot(kind='hist',\n",
    "                              bins= 20,\n",
    "                              alpha= 0.6,\n",
    "                              figsize= [12,8],\n",
    "                              color= 'green'\n",
    "                               )\n",
    "\n",
    "plt.title('Ingresos (usd)', fontsize= 14) # para colocar un título\n",
    "plt.ylabel('Frecuencia', fontsize= 14) # Para nombrar el eje y\n",
    "plt.legend(['Plan Surf', 'Plan Ultimate'], fontsize= 12) # para colocar las leyendas del gráfico\n",
    "plt.show()"
   ]
  },
  {
   "cell_type": "code",
   "execution_count": null,
   "id": "1a1648a7",
   "metadata": {},
   "outputs": [],
   "source": [
    "print('Plan Surf:')\n",
    "# Se calcula la varianza con var() de los ingresos\n",
    "print('La varianza de los ingresos es:', round(surf_plan['usd_total_pay'].var(), 1))\n",
    "# se calcula la moda de los datos con mode() de los ingresos\n",
    "print('La moda de los ingresos es:', surf_plan['usd_total_pay'].mode()[0])\n",
    "# se emplea el método describe() para calcular los estadísticos descriptivos como la media, mediana, desviación estándar\n",
    "print(surf_plan['usd_total_pay'].describe())"
   ]
  },
  {
   "cell_type": "code",
   "execution_count": null,
   "id": "23d7622b",
   "metadata": {},
   "outputs": [],
   "source": [
    "print('Plan Ultimate:')\n",
    "# Se calcula la varianza con var() de los ingresos\n",
    "print('La varianza de los ingresos es:', round(ultimate_plan['usd_total_pay'].var(), 1))\n",
    "# se calcula la moda de los datos con mode() de los ingresos\n",
    "print('La moda de los ingresos es:', ultimate_plan['usd_total_pay'].mode()[0])\n",
    "# se emplea el método describe() para calcular los estadísticos descriptivos como la media, mediana, desviación estándar\n",
    "print(ultimate_plan['usd_total_pay'].describe())"
   ]
  },
  {
   "cell_type": "code",
   "execution_count": null,
   "id": "8b15ee37",
   "metadata": {},
   "outputs": [],
   "source": [
    "# Se traza un diagrama de caja para visualizar el ingreso para el plan surf\n",
    "calls_mints_internet.boxplot(column= 'usd_total_pay',\n",
    "                             by= 'plan',\n",
    "                             fontsize= 12,\n",
    "                             grid= False,\n",
    "                             figsize= [12,8]\n",
    "                             )\n",
    "plt.title('Distribución de los ingresos para los planes', fontsize= 14) # para colocar un título\n",
    "plt.xlabel('Plan', fontsize= 14) # Para nombrar el eje x\n",
    "plt.ylabel('Ingresos (usd)', fontsize= 14) # Para nombrar el eje y\n",
    "plt.show()"
   ]
  },
  {
   "cell_type": "code",
   "execution_count": null,
   "id": "a8a9aa12",
   "metadata": {},
   "outputs": [],
   "source": [
    "# Se cuentan los usuarios para cada plan\n",
    "calls_mints_internet['plan'].value_counts()"
   ]
  },
  {
   "cell_type": "markdown",
   "id": "b3352cb1",
   "metadata": {},
   "source": [
    "<span style=\"color:green\"> \n",
    "La cantidad promedio de minutos consumidos, mensajes enviados, internet consumido e ingresos se grafica para cada plan para observar su evolución a lo largo de los meses.  \n",
    "</span>"
   ]
  },
  {
   "cell_type": "code",
   "execution_count": null,
   "id": "3aa99805",
   "metadata": {},
   "outputs": [],
   "source": [
    "# se grafican la cantidad de minutos promedio para cada plan en un gráfico de líneas\n",
    "surf_ultimate_mean.plot(x= 'month',\n",
    "                        figsize= (10, 5),\n",
    "                        xticks= range(1,13,1),\n",
    "                        color=['blue', 'green']\n",
    "                       )\n",
    "\n",
    "plt.title('Promedio de minutos usados para cada plan', fontsize= 14)\n",
    "plt.xlabel('Mes', fontsize= 14)\n",
    "plt.ylabel('Minutos consumidos', fontsize= 14)\n",
    "plt.legend(['Plan Surf', 'Plan Ultimate'], fontsize= 12)\n",
    "plt.show()"
   ]
  },
  {
   "cell_type": "markdown",
   "id": "5f412271",
   "metadata": {},
   "source": [
    "<span style=\"color:green\"> \n",
    "\n",
    "Para ambos planes la cantidad de minutos usados aumenta a partir del mes de abril, unicamente en febrero los cliente ultimate enviaron más mensajes. Los usuarios o usuarias de ambos planes no excedieron los límites de su plan.\n",
    "</span>"
   ]
  },
  {
   "cell_type": "code",
   "execution_count": null,
   "id": "1173a928",
   "metadata": {},
   "outputs": [],
   "source": [
    "# se grafican la cantidad de mensajes promedio consumidos para cada plan en un gráfico de líneas\n",
    "surf_ultimate_mean_messages.plot(x= 'month',\n",
    "                        figsize= (10, 5),\n",
    "                        xticks= range(1,13,1),\n",
    "                        color=['blue', 'green']\n",
    "                       )\n",
    "\n",
    "plt.title('Promedio de mensajes usados para cada plan', fontsize= 14)\n",
    "plt.xlabel('Mes', fontsize= 14)\n",
    "plt.ylabel('Mensajes enviados', fontsize= 14)\n",
    "plt.legend(['Plan Surf', 'Plan Ultimate'], fontsize= 12)\n",
    "plt.show()"
   ]
  },
  {
   "cell_type": "markdown",
   "id": "192d9a42",
   "metadata": {},
   "source": [
    "<span style=\"color:green\"> \n",
    "↑\n",
    "En ambos planes no excedieron el límite de mensajes, los clientes ultimate enviaron más mensajes a partir de febrero. \n",
    "</span>"
   ]
  },
  {
   "cell_type": "code",
   "execution_count": null,
   "id": "6a8dc331",
   "metadata": {},
   "outputs": [],
   "source": [
    "# se grafican la cantidad de gigabytes promedio consumidos para cada plan en un gráfico de líneas\n",
    "surf_ultimate_mean_internet.plot(x= 'month',\n",
    "                        figsize= (10, 5),\n",
    "                        xticks= range(1,13,1),\n",
    "                        color=['blue', 'green']\n",
    "                       )\n",
    "\n",
    "plt.title('Promedio de gigabytes consumidos para cada plan', fontsize= 14)\n",
    "plt.xlabel('Mes', fontsize= 14)\n",
    "plt.ylabel('Gigabytes consumidos', fontsize= 14)\n",
    "plt.legend(['Plan Surf', 'Plan Ultimate'], fontsize= 12)\n",
    "plt.show()"
   ]
  },
  {
   "cell_type": "markdown",
   "id": "8093b6a8",
   "metadata": {},
   "source": [
    "<span style=\"color:green\"> \n",
    "↑\n",
    "A partir de febrero en ambos planes se excedieron en el límite de gigas, los clientes ultimate enviaron más mensajes a partir de febrero hasta mayo. Los usuarios o usuarias del plan Surf excedieron el límite de gigas el doble a partir de febrero.\n",
    "</span>"
   ]
  },
  {
   "cell_type": "code",
   "execution_count": null,
   "id": "da4531c8",
   "metadata": {},
   "outputs": [],
   "source": [
    "# se grafican el ingreso promedio para cada plan en un gráfico de líneas\n",
    "surf_ultimate_mean_revenue.plot(x= 'month',\n",
    "                        figsize= (10, 5),\n",
    "                        xticks= range(1,13,1),\n",
    "                        color=['blue', 'green']\n",
    "                       )\n",
    "\n",
    "plt.title('Ingresos promedio en usd para cada plan', fontsize= 14)\n",
    "plt.xlabel('Mes', fontsize= 14)\n",
    "plt.ylabel('Ingresos (usd)', fontsize= 14)\n",
    "plt.legend(['Plan Surf', 'Plan Ultimate'], fontsize= 12)\n",
    "plt.show()"
   ]
  },
  {
   "cell_type": "markdown",
   "id": "42c4c572",
   "metadata": {},
   "source": [
    "<span style=\"color:green\"> \n",
    "↑\n",
    "Los usuarios o usuarias del plan Surf excedieron pagaron más dinero a partir de abril respecto a los clientes ultimate, además, la tarifa aumenta, mientras que la tarifa de los clientes ultimate disminuye.  \n",
    "</span>"
   ]
  },
  {
   "cell_type": "markdown",
   "id": "ae9f4f1e",
   "metadata": {},
   "source": [
    "<span style=\"color:green\"> **Conclusiones:**  \n",
    "• En el gráfico de barras se puede observar que el ingreso es mayor para los usuarios con el plan Surf. Los usuarios o usuarias con el plan Surf exceden en la mayoría de los meses la tarifa del plan, la tarifa es de 20 usd, mientras que, los usuarios con el plan ultimate también exceden la tarifa del plan (70 usd). Sin embargo, los clientes con el plan Surf exceden la tarifa en mayor proporción.  \n",
    "• Con base en el histograma para los usuarios con el plan Surf la mayoría de los ingresos están en 20 usd, pero hay un sesgo a la derecha, esto se debe a datos atípicos y que se puede verificar en el diagrama de caja. Lo anterior puede ser consecuencia de los usuarios que pagaron más de su tarifa base.    \n",
    "• Para los usuarios con el plan Ultimate los ingresos en su mayoría son menores de 70 usd, también hay valores que provocan un sesgo a la derecha del histograma, que pueden ser los usuarios o usuarias que se excedieron en su tarifa mensual, con el diagrama de caja se puede observar que hay valores atípicos, ya que también hay valores mayores que el valor máximo.  \n",
    "• Al calcular la media para ambos planes los ingresos son diferente, pero los usuarios con el plan Surf pagaron en promedio  282.1 usd, 14 veces más de su tarifa base. Por otro lado, los clientes del plan Ultimate en promedio ppagaron 166.6 usd, alrededor de dos veces más de su tarifa base, a pesar que se excedieron en su pago base este es menor en comparación con la cantidad que pagaron los usuarios o usuarias del plan Surf. Para  ambos planes tienen una varianza muy grande, esto quiere decir que los datos están muy separados de la media.  \n",
    "• El plan Ultimate tiene menos usuarios 720, mientras que el plan Surf tiene más usuarios 1573, estos últimos son los que pagan el doble de su tarifa base al mes.\n",
    "</span>"
   ]
  },
  {
   "cell_type": "markdown",
   "id": "f33f9d4b",
   "metadata": {},
   "source": [
    "## 9 Prueba las hipótesis estadísticas <a id='hipotesis'></a>"
   ]
  },
  {
   "cell_type": "markdown",
   "id": "16cde14a",
   "metadata": {},
   "source": [
    "<span style=\"color:green\">  **Primera prueba de hipótesis**  \n",
    "Ho: Los ingresos promedios de los usuarios de los planes Ultimate y Surf son iguales.  \n",
    "Ha: Los ingresos promedios de los usuarios de los planes Ultimate y Surf son diferentes.  \n",
    "Para probar la hipótesis se empleará la función `scipy.stats.ttest_ind(array1, array2, equal_var)`.  \n",
    "El DataFrame `surf_plan` y `ultimate_plan` tienen la información de los ingresos de cada plan y son los que se pasarán como argumento en los parámetros `array1` y `array2`, respectivamente.  \n",
    "    Previamente se calculó la varianza para cada plan y son diferentes (plan surf= 2965.0 y plan ultimate= 129.8), con base en lo anterior en el parámetro `equal_var` se establecerá como `False` ya que las varianzas son diferentes.  \n",
    "    El valor de alfa será de 5 % (0.05).\n",
    "</span>"
   ]
  },
  {
   "cell_type": "code",
   "execution_count": null,
   "id": "c63dcd9b",
   "metadata": {},
   "outputs": [],
   "source": [
    "# Prueba las hipótesis\n",
    "# valor de alfa\n",
    "alpha= 0.05\n",
    "# se asigna el resultado en 'results_plan'\n",
    "results_plan = st.ttest_ind(surf_plan['usd_total_pay'], ultimate_plan['usd_total_pay'], equal_var= False)\n",
    "\n",
    "print('El valor p es:', results_plan.pvalue)\n",
    "\n",
    "if results_plan.pvalue < alpha:\n",
    "    print('Se rechaza la hipótesis nula')\n",
    "else:\n",
    "    print('No se rechaza la hipótesis nula')"
   ]
  },
  {
   "cell_type": "markdown",
   "id": "a70595c5",
   "metadata": {},
   "source": [
    "<span style=\"color:green\"> De acuerdo al resultado, podemos rechazar la hipótesis nula de que el ingreso promedio de los planes Ultimate y Surf son iguales. El resultado indica que los ingresos de los usuarios difiere para cada plan surf o ultimate con una confianza estadística del 95%.\n",
    "</span>"
   ]
  },
  {
   "cell_type": "markdown",
   "id": "bffe7778",
   "metadata": {},
   "source": [
    "<span style=\"color:green\">  **Segunda prueba de hipótesis**  \n",
    "Ho: Los ingresos promedios de los usuarios del área NY-NJ es igual al de las otras regiones.  \n",
    "Ha: Los ingresos promedios de los usuarios del área NY-NJ es diferente al de las otras regiones. \n",
    "Para probar la hipótesis también se empleará la función `scipy.stats.ttest_ind(array1, array2, equal_var)`.  \n",
    "El DataFrame `surf_plan` y `ultimate_plan` tienen la información de los ingresos de cada plan y son los que se pasarán como argumento en los parámetros `array1` y `array2`, respectivamente.  \n",
    "    El parámetro `equal_var` se establecerá como `True` (prederterminado).  \n",
    "    El valor de alfa será de 5 % (0.05).\n",
    "</span>"
   ]
  },
  {
   "cell_type": "code",
   "execution_count": null,
   "id": "0fbd4105",
   "metadata": {},
   "outputs": [],
   "source": [
    "# El DatFrame df_users tiene la información del área a la que corresponden los usuarios\n",
    "# Se imprime una muestra de df_users\n",
    "df_users.head()"
   ]
  },
  {
   "cell_type": "code",
   "execution_count": null,
   "id": "4df5a9b0",
   "metadata": {},
   "outputs": [],
   "source": [
    "# Se filtra el DataFrame df_users en donde sólo se muestren el área NY-NJ\n",
    "df_users[df_users['state'] == 'NY-NJ']"
   ]
  },
  {
   "cell_type": "markdown",
   "id": "8544c19a",
   "metadata": {},
   "source": [
    "<span style=\"color:green\"> Al revisar la información del DataFrame filtrado `df_users` no se encontró el estado o área sólo con `NY-NJ`, sin embargo, para el área `NY-NJ-PA` si hay información y las ciudad para estos estados si pertenecen a estos, Por lo tanto se usará la información de esta área para la prueba de hipótesis.  \n",
    "    A continuación, se muestran los datos filtrados para el área `NY-NJ-PA`.\n",
    "</span>"
   ]
  },
  {
   "cell_type": "code",
   "execution_count": null,
   "id": "dea0d908",
   "metadata": {},
   "outputs": [],
   "source": [
    "# Se filtra el DataFrame df_users en donde sólo se muestren el área NY-NJ-PA\n",
    "# El resultado se asigna a area_NY_NJ_PA\n",
    "df_users[df_users['state'] == 'NY-NJ-PA'].head()"
   ]
  },
  {
   "cell_type": "markdown",
   "id": "cca78498",
   "metadata": {},
   "source": [
    "<div class=\"alert alert-block alert-info\">\n",
    "<b>  </b> <a class=\"tocSkip\"></a>  \n",
    "    \n",
    "No se encontró un área que sea solamente NY-NJ, se ha decidido emplear el área NY-NJ-PA para la prueba de hipótesis.\n",
    "</div>\n"
   ]
  },
  {
   "cell_type": "markdown",
   "id": "756215e2",
   "metadata": {},
   "source": [
    "<span style=\"color:green\"> El DataFrame `calls_mints_internet` tiene la información del ingreso total por mes para cada usuario, entonces es necesario fusionar los datos con el DataFrame `df_users` para añadir la columna del estado ('state').  \n",
    "    Esta tarea de fusionar los DataFrames se puede hacer con un merge(), ambos DataFrames tienen en común la columna `user_id`. \n",
    "    Se crea un DataFrame llamado `df_users_id_state` a partir del DataFrame `df_users` convervando unicamente las columnas `user_id` y `state`. Después se hace el merge entre ambos DataFrames para agregar el estado.\n",
    "</span>"
   ]
  },
  {
   "cell_type": "code",
   "execution_count": null,
   "id": "17e06b6a",
   "metadata": {},
   "outputs": [],
   "source": [
    "# Se guardan las columnas de 'user_id' y 'state' en 'df_users_id_state'\n",
    "df_users_id_state = df_users[['user_id', 'state']]\n",
    "df_users_id_state.head()"
   ]
  },
  {
   "cell_type": "code",
   "execution_count": null,
   "id": "9598509c",
   "metadata": {},
   "outputs": [],
   "source": [
    "# Se hace el merge entre 'calls_mints_internet' y 'df_users_id_state'\n",
    "calls_mints_internet_state = calls_mints_internet.merge(df_users_id_state, on= 'user_id')\n",
    "calls_mints_internet_state.head()"
   ]
  },
  {
   "cell_type": "markdown",
   "id": "fa8259f2",
   "metadata": {},
   "source": [
    "<span style=\"color:green\"> Ahora se filtran el DataFrame en donde el estado sea `NY-NJ-PA` y DataFrame en donde sólo se tengan las otras regiones.\n",
    "\n",
    "</span>"
   ]
  },
  {
   "cell_type": "code",
   "execution_count": null,
   "id": "e565da0e",
   "metadata": {},
   "outputs": [],
   "source": [
    "# Se filtra el DataFrame 'calls_mints_internet_state' donde sólo se tenga el área NY-NJ-PA \n",
    "df_NY_NJ_PA = calls_mints_internet_state[calls_mints_internet_state['state'] == 'NY-NJ-PA']\n",
    "# se imprime una muestra del DataFrame resultante\n",
    "df_NY_NJ_PA.head()"
   ]
  },
  {
   "cell_type": "code",
   "execution_count": null,
   "id": "fb280d9e",
   "metadata": {},
   "outputs": [],
   "source": [
    "# Se filtra el DataFrame 'calls_mints_internet_state' donde sólo se tenga el resto de áreas\n",
    "# Se emplea ~ para obtener el resultado contrario del filtro\n",
    "df_otras_areas = calls_mints_internet_state[~(calls_mints_internet_state['state'] == 'NY-NJ-PA')]\n",
    "df_otras_areas.head()"
   ]
  },
  {
   "cell_type": "markdown",
   "id": "90bc90a2",
   "metadata": {},
   "source": [
    "<span style=\"color:green\"> Ahora se hace la prueba de hipótesis\n",
    "\n",
    "</span>"
   ]
  },
  {
   "cell_type": "code",
   "execution_count": null,
   "id": "64370d83",
   "metadata": {
    "lines_to_next_cell": 2
   },
   "outputs": [],
   "source": [
    "# Prueba las hipótesis\n",
    "# valor de alfa\n",
    "alpha= 0.05\n",
    "# se asigna el resultado en 'results_area'\n",
    "results_area = st.ttest_ind(df_NY_NJ_PA['usd_total_pay'], df_otras_areas['usd_total_pay'], equal_var= False)\n",
    "\n",
    "print('El valor p es:', results_area.pvalue)\n",
    "\n",
    "if results_area.pvalue < alpha:\n",
    "    print('Se rechaza la hipótesis nula')\n",
    "else:\n",
    "    print('No se rechaza la hipótesis nula')"
   ]
  },
  {
   "cell_type": "markdown",
   "id": "c574fcbc",
   "metadata": {},
   "source": [
    "<span style=\"color:green\"> Con base en el resultado del valor p se rechaza la hipótesis nula de que los ingresos promedios de los usuarios del área NY-NJ_PA es igual al de las otras regiones con una confianza estadística del 95%., ya que  existe una diferencia en los ingresos de acuerdo a la región, en este caso si hay una diferencia entre el área de NY-NJ-PA y el resto de áreas.\n",
    "\n",
    "</span>"
   ]
  },
  {
   "cell_type": "markdown",
   "id": "3083e65f",
   "metadata": {},
   "source": [
    "## 10 Resumen general de los pasos realizados: <a id='pasos'></a>\n",
    "\n",
    "<span style=\"color:green\"> \n",
    "Para trabajar con todo el conjunto de datos se importaron las librerías necesarias y se importaron los Datasets. Después se hizo un exploración de cada DatFrame con `info()` para detectar de manera general la cantidad de datos, columnas y valores ausentes. Posteriormente, los datos se procesaron para cada DataFrame encontrando y eliminando los valores duplicados y ausentes, así como detectar el tipo de dato de las columnas.  \n",
    "\n",
    "Se corrigieron los datos en donde se consideró importante hacerlo, como cambiar los tipos de datos. Además, se enriquecieron los DataFrames agregando más columnas y redondeando algunos valores numéricos de ciertas columnas. También se buscaron los valores ausentes y duplicados, en este caso no se encontraron.\n",
    "\n",
    "Se realizaron algunos ``merge()`` para unir diferentes DataFrames, ya que la información para hacer los análisis está en varios conjunto de datos. De igual forma se utilizó ``concat()`` para unir algunos Series, porque estos se complementaban para completar la información y a partir del DataFrame resultante hacer los diferentes gráficos. Cuando se unieron los DataFrames de las llamadas, minutos, mensajes e Internet, en algunos casos habia valores  nulos (`NaN`), ya que en determinado mes el usuario o usuaria sólo usó los minutos para llamadas, mensajes o Internet, los otros servicios no los usó, pero se decidió dejarán así estos valores nulos y no sustituirlos con 0, debido a que podría afectar los calculos posteriores.\n",
    " \n",
    "Se crearon tres funciones cada una para calcular el costo extra de minutos, mensajes o gygas si el usuario o usuaria se excedió en el consumo. Y una cuarta función se creó para calcular el pago total, en donde a la tarifa base se sumó el costo extra de los servicios consumidos si el cliente se excedia de su límite.\n",
    "    \n",
    "Se hicieron dos pruebas de hipótesis, para ambas pruebas se seleccionó `scipy.stats.ttest_ind(array1, array2, equal_var)` ya que se están comparando las medias de dos poblaciones. Previo a realizar las pruebas de hipótesis, los valores nulos de la columna `usd_total_pay` de cada DataFrame se tuvieron que sustituir con 0, ya que si no se hacia de es manera la prueba no hacia ningún cálculo.\n",
    "</span>\n"
   ]
  },
  {
   "cell_type": "markdown",
   "id": "622903cf",
   "metadata": {},
   "source": [
    "## 11 Conclusión general <a id='conclusion'></a>\n",
    "<span style=\"color:green\"> **Conclusiones:**  \n",
    "• Los usuarios o usuarias del Plan Surf pagan más de su tarifa mensual de 20 usd, 14 veces más su tarifa base ya que pagan en promedio 282.1 usd. Mientras que los usuarios o usuarias ultimate pagan en promedio 166.6 usd, que también se exceden de su tarifa base pero en menor medida que los usuarios Surf. Sin embargo, hay una variabilidad muy alta de los datos ya que sus varianzas son muy grandes.  \n",
    "• Asimismo, para los minutos de las llamadas, mensajes y los gigabytes la varianza es muy alta para ambos planes, lo que sugiere que hay una variabilidad en los datos. Lo anterior puede hacer que sea más difícil tener conclusiones precisas de los datos.  \n",
    "• En ambos planes los usuarios o usuarias se exceden en los límites de sus planes, ya que los diagramas de caja se pudo observar que hay valores atípicos, ya que son mayores al valor máximo. Lo anterior se puede corroborar con los histogramas, ya que en algunos casos tienen un sesgo a la derecha. Además, la distribución de los datos no es menor a la cantidad de minutos, mensajes o gigas que incluye su plan.  \n",
    "• El plan Surf tiene más usuarios o usurias que el plan Ultimate.  \n",
    "• De acuerdo a la primera prueba de hipótesis, podemos rechazar la hipótesis nula de que el ingreso promedio de los planes Ultimate y Surf son iguales. El resultado indica que los ingresos de los usuarios difiere para cada plan surf o ultimate.  \n",
    "• Y el resultado de la segunda prueba de hipótesis indica que los ingresos para el área existe una diferencia en los ingresos de acuerdo a la región, en este caso hay una diferencia entre el área de NY-NJ-PA y el resto de áreas.  \n",
    "</span>"
   ]
  },
  {
   "cell_type": "code",
   "execution_count": null,
   "id": "867a7a69",
   "metadata": {
    "lines_to_next_cell": 2
   },
   "outputs": [],
   "source": [
    "\n"
   ]
  }
 ],
 "metadata": {
  "jupytext": {
   "cell_metadata_filter": "-all",
   "main_language": "python",
   "notebook_metadata_filter": "-all"
  }
 },
 "nbformat": 4,
 "nbformat_minor": 5
}
